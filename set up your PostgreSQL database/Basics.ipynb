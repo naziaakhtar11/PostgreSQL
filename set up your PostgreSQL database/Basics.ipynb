{
 "cells": [
  {
   "cell_type": "markdown",
   "metadata": {
    "collapsed": true
   },
   "source": [
    "        In this project, we will learn how to create a database in postgresSQL and populate data in the tables as well as create user groups"
   ]
  },
  {
   "cell_type": "code",
   "execution_count": 62,
   "metadata": {
    "collapsed": false
   },
   "outputs": [
    {
     "ename": "ProgrammingError",
     "evalue": "database \"crime_db\" already exists\n",
     "output_type": "error",
     "traceback": [
      "\u001b[1;31m\u001b[0m",
      "\u001b[1;31mProgrammingError\u001b[0mTraceback (most recent call last)",
      "\u001b[1;32m<ipython-input-62-d65a12b42917>\u001b[0m in \u001b[0;36m<module>\u001b[1;34m()\u001b[0m\n\u001b[0;32m      3\u001b[0m \u001b[0mcur\u001b[0m \u001b[1;33m=\u001b[0m \u001b[0mconn\u001b[0m\u001b[1;33m.\u001b[0m\u001b[0mcursor\u001b[0m\u001b[1;33m(\u001b[0m\u001b[1;33m)\u001b[0m\u001b[1;33m\u001b[0m\u001b[0m\n\u001b[0;32m      4\u001b[0m \u001b[0mconn\u001b[0m\u001b[1;33m.\u001b[0m\u001b[0mautocommit\u001b[0m \u001b[1;33m=\u001b[0m \u001b[1;32mTrue\u001b[0m\u001b[1;33m\u001b[0m\u001b[0m\n\u001b[1;32m----> 5\u001b[1;33m \u001b[0mcur\u001b[0m\u001b[1;33m.\u001b[0m\u001b[0mexecute\u001b[0m\u001b[1;33m(\u001b[0m\u001b[1;34m\"CREATE DATABASE crime_db;\"\u001b[0m\u001b[1;33m)\u001b[0m\u001b[1;33m\u001b[0m\u001b[0m\n\u001b[0m\u001b[0;32m      6\u001b[0m \u001b[0mconn\u001b[0m\u001b[1;33m.\u001b[0m\u001b[0mautocommit\u001b[0m \u001b[1;33m=\u001b[0m \u001b[1;32mFalse\u001b[0m\u001b[1;33m\u001b[0m\u001b[0m\n\u001b[0;32m      7\u001b[0m \u001b[1;31m#conn.commit()\u001b[0m\u001b[1;33m\u001b[0m\u001b[1;33m\u001b[0m\u001b[0m\n",
      "\u001b[1;31mProgrammingError\u001b[0m: database \"crime_db\" already exists\n"
     ]
    }
   ],
   "source": [
    "import psycopg2\n",
    "conn = psycopg2.connect(dbname='dq',user='dq')\n",
    "cur = conn.cursor()\n",
    "conn.autocommit = True\n",
    "cur.execute(\"CREATE DATABASE crime_db;\")\n",
    "conn.autocommit = False\n",
    "conn.commit()\n",
    "conn.close()"
   ]
  },
  {
   "cell_type": "code",
   "execution_count": 69,
   "metadata": {
    "collapsed": false
   },
   "outputs": [],
   "source": [
    "conn = psycopg2.connect(dbname='crime_db',user='dq')\n",
    "cur = conn.cursor()"
   ]
  },
  {
   "cell_type": "code",
   "execution_count": 71,
   "metadata": {
    "collapsed": false
   },
   "outputs": [
    {
     "data": {
      "text/plain": [
       "[('pg_catalog', 'pg_statistic', 'dq', None, True, False, False),\n",
       " ('pg_catalog', 'pg_type', 'dq', None, True, False, False),\n",
       " ('pg_catalog', 'pg_authid', 'dq', 'pg_global', True, False, False),\n",
       " ('pg_catalog', 'pg_attribute', 'dq', None, True, False, False),\n",
       " ('pg_catalog', 'pg_proc', 'dq', None, True, False, False),\n",
       " ('pg_catalog', 'pg_user_mapping', 'dq', None, True, False, False),\n",
       " ('pg_catalog', 'pg_attrdef', 'dq', None, True, False, False),\n",
       " ('pg_catalog', 'pg_constraint', 'dq', None, True, False, False),\n",
       " ('pg_catalog', 'pg_index', 'dq', None, True, False, False),\n",
       " ('pg_catalog', 'pg_operator', 'dq', None, True, False, False),\n",
       " ('pg_catalog', 'pg_opfamily', 'dq', None, True, False, False),\n",
       " ('pg_catalog', 'pg_opclass', 'dq', None, True, False, False),\n",
       " ('pg_catalog', 'pg_am', 'dq', None, True, False, False),\n",
       " ('pg_catalog', 'pg_amop', 'dq', None, True, False, False),\n",
       " ('pg_catalog', 'pg_amproc', 'dq', None, True, False, False),\n",
       " ('pg_catalog', 'pg_database', 'dq', 'pg_global', True, False, False),\n",
       " ('pg_catalog', 'pg_largeobject_metadata', 'dq', None, True, False, False),\n",
       " ('pg_catalog', 'pg_aggregate', 'dq', None, True, False, False),\n",
       " ('pg_catalog', 'pg_rewrite', 'dq', None, True, False, False),\n",
       " ('pg_catalog', 'pg_trigger', 'dq', None, True, False, False),\n",
       " ('pg_catalog', 'pg_event_trigger', 'dq', None, True, False, False),\n",
       " ('pg_catalog', 'pg_description', 'dq', None, True, False, False),\n",
       " ('pg_catalog', 'pg_cast', 'dq', None, True, False, False),\n",
       " ('pg_catalog', 'pg_enum', 'dq', None, True, False, False),\n",
       " ('pg_catalog', 'pg_namespace', 'dq', None, True, False, False),\n",
       " ('pg_catalog', 'pg_conversion', 'dq', None, True, False, False),\n",
       " ('pg_catalog', 'pg_depend', 'dq', None, True, False, False),\n",
       " ('pg_catalog', 'pg_db_role_setting', 'dq', 'pg_global', True, False, False),\n",
       " ('pg_catalog', 'pg_tablespace', 'dq', 'pg_global', True, False, False),\n",
       " ('pg_catalog', 'pg_pltemplate', 'dq', 'pg_global', True, False, False),\n",
       " ('pg_catalog', 'pg_auth_members', 'dq', 'pg_global', True, False, False),\n",
       " ('pg_catalog', 'pg_shdepend', 'dq', 'pg_global', True, False, False),\n",
       " ('pg_catalog', 'pg_shdescription', 'dq', 'pg_global', True, False, False),\n",
       " ('pg_catalog', 'pg_ts_config', 'dq', None, True, False, False),\n",
       " ('pg_catalog', 'pg_ts_config_map', 'dq', None, True, False, False),\n",
       " ('pg_catalog', 'pg_ts_dict', 'dq', None, True, False, False),\n",
       " ('pg_catalog', 'pg_ts_parser', 'dq', None, True, False, False),\n",
       " ('pg_catalog', 'pg_ts_template', 'dq', None, True, False, False),\n",
       " ('pg_catalog', 'pg_extension', 'dq', None, True, False, False),\n",
       " ('pg_catalog', 'pg_foreign_data_wrapper', 'dq', None, True, False, False),\n",
       " ('pg_catalog', 'pg_foreign_server', 'dq', None, True, False, False),\n",
       " ('pg_catalog', 'pg_foreign_table', 'dq', None, True, False, False),\n",
       " ('pg_catalog', 'pg_default_acl', 'dq', None, True, False, False),\n",
       " ('pg_catalog', 'pg_seclabel', 'dq', None, True, False, False),\n",
       " ('pg_catalog', 'pg_shseclabel', 'dq', 'pg_global', True, False, False),\n",
       " ('pg_catalog', 'pg_collation', 'dq', None, True, False, False),\n",
       " ('pg_catalog', 'pg_range', 'dq', None, True, False, False),\n",
       " ('pg_catalog', 'pg_largeobject', 'dq', None, True, False, False),\n",
       " ('information_schema',\n",
       "  'sql_implementation_info',\n",
       "  'dq',\n",
       "  None,\n",
       "  False,\n",
       "  False,\n",
       "  False),\n",
       " ('information_schema', 'sql_languages', 'dq', None, False, False, False),\n",
       " ('information_schema', 'sql_packages', 'dq', None, False, False, False),\n",
       " ('information_schema', 'sql_sizing', 'dq', None, False, False, False),\n",
       " ('information_schema',\n",
       "  'sql_sizing_profiles',\n",
       "  'dq',\n",
       "  None,\n",
       "  False,\n",
       "  False,\n",
       "  False),\n",
       " ('pg_catalog', 'pg_class', 'dq', None, True, False, False),\n",
       " ('pg_catalog', 'pg_inherits', 'dq', None, True, False, False),\n",
       " ('pg_catalog', 'pg_language', 'dq', None, True, False, False),\n",
       " ('information_schema', 'sql_features', 'dq', None, False, False, False),\n",
       " ('information_schema', 'sql_parts', 'dq', None, False, False, False)]"
      ]
     },
     "execution_count": 71,
     "metadata": {},
     "output_type": "execute_result"
    }
   ],
   "source": [
    "cur.execute(\"SELECT * FROM pg_catalog.pg_tables;\")\n",
    "cur.fetchall()"
   ]
  },
  {
   "cell_type": "code",
   "execution_count": 72,
   "metadata": {
    "collapsed": false
   },
   "outputs": [
    {
     "ename": "ProgrammingError",
     "evalue": "schema \"crimes\" already exists\n",
     "output_type": "error",
     "traceback": [
      "\u001b[1;31m\u001b[0m",
      "\u001b[1;31mProgrammingError\u001b[0mTraceback (most recent call last)",
      "\u001b[1;32m<ipython-input-72-fe957cc86f8d>\u001b[0m in \u001b[0;36m<module>\u001b[1;34m()\u001b[0m\n\u001b[1;32m----> 1\u001b[1;33m \u001b[0mcur\u001b[0m\u001b[1;33m.\u001b[0m\u001b[0mexecute\u001b[0m\u001b[1;33m(\u001b[0m\u001b[1;34m\"CREATE SCHEMA crimes;\"\u001b[0m\u001b[1;33m)\u001b[0m\u001b[1;33m\u001b[0m\u001b[0m\n\u001b[0m\u001b[0;32m      2\u001b[0m \u001b[0mconn\u001b[0m\u001b[1;33m.\u001b[0m\u001b[0mcommit\u001b[0m\u001b[1;33m(\u001b[0m\u001b[1;33m)\u001b[0m\u001b[1;33m\u001b[0m\u001b[0m\n",
      "\u001b[1;31mProgrammingError\u001b[0m: schema \"crimes\" already exists\n"
     ]
    }
   ],
   "source": [
    "cur.execute(\"CREATE SCHEMA crimes;\")\n",
    "conn.commit()"
   ]
  },
  {
   "cell_type": "code",
   "execution_count": 9,
   "metadata": {
    "collapsed": false
   },
   "outputs": [],
   "source": [
    "import csv\n",
    "with open(\"boston.csv\",\"r\") as f:\n",
    "    reader = csv.reader(f)\n",
    "    col_headers = next(reader,None)\n",
    "    first_row = next(reader)\n"
   ]
  },
  {
   "cell_type": "code",
   "execution_count": 26,
   "metadata": {
    "collapsed": false
   },
   "outputs": [
    {
     "name": "stdout",
     "output_type": "stream",
     "text": [
      "['1', '619', 'LARCENY ALL OTHERS', '2018-09-02', 'Sunday', '42.35779134', '-71.13937053']\n",
      "['incident_number', 'offense_code', 'description', 'date', 'day_of_the_week', 'lat', 'long']\n"
     ]
    }
   ],
   "source": [
    "print(first_row)\n",
    "print(col_headers)"
   ]
  },
  {
   "cell_type": "code",
   "execution_count": 14,
   "metadata": {
    "collapsed": true
   },
   "outputs": [],
   "source": [
    "def get_col_value_set(csv_filename,col_index):\n",
    "    all_values=[]\n",
    "    unique_list = []\n",
    "    with open(csv_filename,\"r\") as f:\n",
    "        reader = csv.reader(f)\n",
    "        for row in reader:\n",
    "            all_values.append(row[col_index])\n",
    "    \n",
    "    for val in all_values:\n",
    "        if val not in unique_list:\n",
    "            unique_list.append(val)   \n",
    "    return unique_list"
   ]
  },
  {
   "cell_type": "code",
   "execution_count": null,
   "metadata": {
    "collapsed": true
   },
   "outputs": [],
   "source": [
    "for i in range(0,6):\n",
    "    vals = get_col_value_set(\"boston.csv\",i)\n",
    "    print(len(vals))"
   ]
  },
  {
   "cell_type": "code",
   "execution_count": 29,
   "metadata": {
    "collapsed": false
   },
   "outputs": [
    {
     "name": "stdout",
     "output_type": "stream",
     "text": [
      "58\n"
     ]
    }
   ],
   "source": [
    "col_values = get_col_value_set(\"boston.csv\",2)\n",
    "max_len_description = 0\n",
    "for val in col_values:\n",
    "    if(len(val) > max_len):\n",
    "       max_len_description = len(val)\n",
    "print(max_len)"
   ]
  },
  {
   "cell_type": "markdown",
   "metadata": {},
   "source": [
    "We will create a table in our database to represent the crime dataset and make the day_of_the_week column as enumerator type and set the maximum length of description to 100 characters"
   ]
  },
  {
   "cell_type": "code",
   "execution_count": 31,
   "metadata": {
    "collapsed": false
   },
   "outputs": [
    {
     "name": "stdout",
     "output_type": "stream",
     "text": [
      "['incident_number', 'offense_code', 'description', 'date', 'day_of_the_week', 'lat', 'long']\n",
      "['1', '619', 'LARCENY ALL OTHERS', '2018-09-02', 'Sunday', '42.35779134', '-71.13937053']\n"
     ]
    }
   ],
   "source": [
    "print(col_headers)\n",
    "print(first_row)"
   ]
  },
  {
   "cell_type": "code",
   "execution_count": 79,
   "metadata": {
    "collapsed": false
   },
   "outputs": [],
   "source": [
    "cur.execute(\"CREATE TYPE day_enum AS ENUM ('Sunday','Monday','Tuesday','Wednesday','Thursday','Friday','Saturday');\")"
   ]
  },
  {
   "cell_type": "code",
   "execution_count": 80,
   "metadata": {
    "collapsed": false
   },
   "outputs": [],
   "source": [
    "cur.execute(\"\"\"CREATE TABLE crimes.boston_crimes (\n",
    "incident_number integer PRIMARY KEY,\n",
    "offense_code integer, description varchar(100),\n",
    "date date, day_of_the_week day_enum,\n",
    "lat text, long text\n",
    "); \"\"\")"
   ]
  },
  {
   "cell_type": "code",
   "execution_count": 78,
   "metadata": {
    "collapsed": true
   },
   "outputs": [],
   "source": [
    "#cur.execute(\"rollback;\")"
   ]
  },
  {
   "cell_type": "code",
   "execution_count": 82,
   "metadata": {
    "collapsed": false
   },
   "outputs": [],
   "source": [
    "with open(\"boston.csv\") as f:\n",
    "    cur.copy_expert(\"COPY crimes.boston_crimes FROM STDIN WITH CSV HEADER;\",f)"
   ]
  },
  {
   "cell_type": "code",
   "execution_count": 83,
   "metadata": {
    "collapsed": true
   },
   "outputs": [],
   "source": [
    "cur.execute(\"REVOKE ALL ON SCHEMA public FROM public\")"
   ]
  },
  {
   "cell_type": "code",
   "execution_count": 85,
   "metadata": {
    "collapsed": false
   },
   "outputs": [],
   "source": [
    "cur.execute(\"REVOKE ALL ON DATABASE crime_db FROM public;\")"
   ]
  },
  {
   "cell_type": "code",
   "execution_count": 86,
   "metadata": {
    "collapsed": true
   },
   "outputs": [],
   "source": [
    "cur.execute(\"CREATE GROUP readonly NOLOGIN;\")"
   ]
  },
  {
   "cell_type": "code",
   "execution_count": 87,
   "metadata": {
    "collapsed": true
   },
   "outputs": [],
   "source": [
    "cur.execute(\"CREATE GROUP readwrite NOLOGIN;\")"
   ]
  },
  {
   "cell_type": "code",
   "execution_count": 88,
   "metadata": {
    "collapsed": true
   },
   "outputs": [],
   "source": [
    "cur.execute(\"GRANT CONNECT ON DATABASE crime_db TO readonly;\")"
   ]
  },
  {
   "cell_type": "code",
   "execution_count": 89,
   "metadata": {
    "collapsed": true
   },
   "outputs": [],
   "source": [
    "cur.execute(\"GRANT CONNECT ON DATABASE crime_db TO readwrite;\")"
   ]
  },
  {
   "cell_type": "code",
   "execution_count": 90,
   "metadata": {
    "collapsed": true
   },
   "outputs": [],
   "source": [
    "cur.execute(\"GRANT USAGE on SCHEMA crimes TO readonly;\")"
   ]
  },
  {
   "cell_type": "code",
   "execution_count": 91,
   "metadata": {
    "collapsed": true
   },
   "outputs": [],
   "source": [
    "cur.execute(\"GRANT USAGE on SCHEMA crimes TO readwrite;\")"
   ]
  },
  {
   "cell_type": "code",
   "execution_count": 92,
   "metadata": {
    "collapsed": true
   },
   "outputs": [],
   "source": [
    "cur.execute(\"GRANT SELECT ON ALL TABLES IN SCHEMA crimes TO readonly;\")"
   ]
  },
  {
   "cell_type": "code",
   "execution_count": 93,
   "metadata": {
    "collapsed": true
   },
   "outputs": [],
   "source": [
    "cur.execute(\"GRANT SELECT,INSERT,DELETE,UPDATE ON ALL TABLES IN SCHEMA crimes TO readwrite;\")"
   ]
  },
  {
   "cell_type": "code",
   "execution_count": 94,
   "metadata": {
    "collapsed": true
   },
   "outputs": [],
   "source": [
    "cur.execute(\"CREATE USER data_analyst WITH PASSWORD 'secret1';\")"
   ]
  },
  {
   "cell_type": "code",
   "execution_count": 95,
   "metadata": {
    "collapsed": true
   },
   "outputs": [],
   "source": [
    "cur.execute(\"GRANT readonly TO data_analyst;\")"
   ]
  },
  {
   "cell_type": "code",
   "execution_count": 96,
   "metadata": {
    "collapsed": true
   },
   "outputs": [],
   "source": [
    "cur.execute(\"CREATE USER data_scientist WITH PASSWORD 'secret2';\")"
   ]
  },
  {
   "cell_type": "code",
   "execution_count": 97,
   "metadata": {
    "collapsed": true
   },
   "outputs": [],
   "source": [
    "cur.execute(\"GRANT readwrite TO data_scientist;\")"
   ]
  },
  {
   "cell_type": "code",
   "execution_count": 101,
   "metadata": {
    "collapsed": false
   },
   "outputs": [],
   "source": [
    "cur.execute(\"SELECT grantee,privilege_type FROM information_schema.table_privileges WHERE grantee='readwrite';\")"
   ]
  },
  {
   "cell_type": "code",
   "execution_count": 102,
   "metadata": {
    "collapsed": false
   },
   "outputs": [
    {
     "data": {
      "text/plain": [
       "[('readwrite', 'INSERT'),\n",
       " ('readwrite', 'SELECT'),\n",
       " ('readwrite', 'UPDATE'),\n",
       " ('readwrite', 'DELETE')]"
      ]
     },
     "execution_count": 102,
     "metadata": {},
     "output_type": "execute_result"
    }
   ],
   "source": [
    "cur.fetchall()"
   ]
  },
  {
   "cell_type": "code",
   "execution_count": 103,
   "metadata": {
    "collapsed": true
   },
   "outputs": [],
   "source": [
    "cur.execute(\"SELECT grantee,privilege_type FROM information_schema.table_privileges WHERE grantee='readonly';\")"
   ]
  },
  {
   "cell_type": "code",
   "execution_count": 104,
   "metadata": {
    "collapsed": false
   },
   "outputs": [
    {
     "data": {
      "text/plain": [
       "[('readonly', 'SELECT')]"
      ]
     },
     "execution_count": 104,
     "metadata": {},
     "output_type": "execute_result"
    }
   ],
   "source": [
    "cur.fetchall()"
   ]
  },
  {
   "cell_type": "code",
   "execution_count": null,
   "metadata": {
    "collapsed": true
   },
   "outputs": [],
   "source": []
  }
 ],
 "metadata": {
  "kernelspec": {
   "display_name": "Python 3",
   "language": "python",
   "name": "python3"
  },
  "language_info": {
   "codemirror_mode": {
    "name": "ipython",
    "version": 3
   },
   "file_extension": ".py",
   "mimetype": "text/x-python",
   "name": "python",
   "nbconvert_exporter": "python",
   "pygments_lexer": "ipython3",
   "version": "3.4.3"
  }
 },
 "nbformat": 4,
 "nbformat_minor": 2
}
